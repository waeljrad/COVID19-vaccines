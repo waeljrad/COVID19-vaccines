{
 "cells": [
  {
   "cell_type": "code",
   "execution_count": 1,
   "metadata": {},
   "outputs": [],
   "source": [
    "import pandas as pd\n",
    "import numpy as np\n",
    "import seaborn as sns\n",
    "import matplotlib.pyplot as plt\n",
    "from sklearn.feature_extraction.text import CountVectorizer\n",
    "from sklearn.feature_extraction.text import TfidfTransformer\n",
    "from sklearn.naive_bayes import MultinomialNB\n",
    "from sklearn.model_selection  import train_test_split\n",
    "from sklearn.pipeline import Pipeline\n",
    "from sklearn.metrics import classification_report\n",
    "%matplotlib inline"
   ]
  },
  {
   "cell_type": "markdown",
   "metadata": {},
   "source": [
    "# Objective\n",
    "\n",
    "This data set from Kaggle contains tweets about COVID19 vaccines with lists of Hashtags. The goal of this project is classifying these tweets to distinguish health-oriented, political and superstition based on NLP algorithms.\n",
    "\n",
    "In order to achieve this, we follow three steps:\n",
    "\n",
    "    1.\tText processing and data preparation: in this step we format the data, delete GDPR related information, extract links from tweets and checking some data features\n",
    "    \n",
    "    2.\tAssigning categories: this is manual process which plays a role in the prediction quality. We have to classify the tweets directly one-by-one, which is a time-consuming process:\n",
    "        \n",
    "    \n",
    "    Approval                  | 230 | % 7.72 \n",
    "    Business                  | 50  | % 1.68 \n",
    "    Health                    | 127 | % 4.26 \n",
    "    Junk Knowledge            | 224 | % 7.52 \n",
    "    Other                     | 204 | % 6.85 \n",
    "    Politics                  | 154 | % 5.17 \n",
    "    Procurement and Logistics | 231 | % 7.76 \n",
    "    Unique vaccination        | 780 | % 26.19 \n",
    "    Vaccination campaign      | 418 | % 14.04 \n",
    "    Vaccine                   | 400 | % 13.43 \n",
    "    Side effects              | 160 | % 5.37 \n",
    "\n",
    "    DISCLAIMER: these classifications are the result of a manual effort whithout medical proper knowledge. Medical professionals     may have a different opinion.\n",
    "\n",
    "    3.\tOnce categories are assigned, an NLP vectorizer is used to predict the tweets.\n",
    "\n",
    "At the end will have a classifier to predict whether the tweet has real informative value in regards to COVID19 and helps to eliminate all junk-science or any other irrelevant information.\n"
   ]
  },
  {
   "cell_type": "markdown",
   "metadata": {},
   "source": [
    "## 1. Data Pre-processing"
   ]
  },
  {
   "cell_type": "code",
   "execution_count": 2,
   "metadata": {},
   "outputs": [],
   "source": [
    "# Read data\n",
    "twitter_data = pd.read_excel('vaccination_tweets.xlsx',sheet_name='vaccination_tweets')"
   ]
  },
  {
   "cell_type": "markdown",
   "metadata": {},
   "source": [
    "In a first steps all countries were normalised as a potential feature, for the moment the geographical location is not used:"
   ]
  },
  {
   "cell_type": "code",
   "execution_count": 3,
   "metadata": {},
   "outputs": [],
   "source": [
    "twitter_data['Country'].fillna('NA',inplace=True)\n",
    "nb_countries = len(twitter_data['Country'].unique())\n",
    "freq=pd.DataFrame(twitter_data['Country'].value_counts())\n",
    "freq.reset_index(inplace=True)\n",
    "freq.columns = ['Country','Country_freq']\n",
    "twitter_data  = twitter_data.merge(freq,how='left',on='Country')"
   ]
  },
  {
   "cell_type": "markdown",
   "metadata": {},
   "source": [
    "The text contains both the tweet and the link to this tweet, we separate both in order to (1) remove noise made by the link (2) make it easier later to check the tweets:"
   ]
  },
  {
   "cell_type": "code",
   "execution_count": 4,
   "metadata": {},
   "outputs": [],
   "source": [
    "def link_extractor(text):\n",
    "    if '¦' in text:\n",
    "        return text.split('¦')[1].strip()\n",
    "    else:\n",
    "        return \"\"\n",
    "\n",
    "def text_extractor(text):\n",
    "    if '¦' in text:\n",
    "        return text.split('¦')[0].strip()\n",
    "    else:\n",
    "        return text.strip()\n",
    "\n",
    "twitter_data['link'] = twitter_data['text'].apply(lambda t:link_extractor(t))\n",
    "#twitter_data['text'] = twitter_data['text'].apply(lambda t:text_extractor(t))"
   ]
  },
  {
   "cell_type": "markdown",
   "metadata": {},
   "source": [
    "The table contains data related to the users. As we do not need these columns, it is better to get rid of these data for privacy reasons:"
   ]
  },
  {
   "cell_type": "code",
   "execution_count": 5,
   "metadata": {},
   "outputs": [],
   "source": [
    "#GDPR filters\n",
    "del twitter_data['id']\n",
    "del twitter_data['user_name']\n",
    "del twitter_data['user_description']"
   ]
  },
  {
   "cell_type": "markdown",
   "metadata": {},
   "source": [
    "## 2. Assigning Categories\n",
    "\n",
    "The second step is reading all manually classified values and inserting them into a new column.\n",
    "To date, 60% of the tweets are classified."
   ]
  },
  {
   "cell_type": "code",
   "execution_count": 6,
   "metadata": {},
   "outputs": [],
   "source": [
    "cat = pd.DataFrame(pd.read_excel('vaccination_tweets_processed.xlsx',sheet_name='data processed')['Category'].fillna(''),columns =['Category'])\n",
    "twitter_data = pd.concat([twitter_data,cat],axis=1)"
   ]
  },
  {
   "cell_type": "code",
   "execution_count": 7,
   "metadata": {},
   "outputs": [
    {
     "data": {
      "text/plain": [
       "array(['Junk Knowledge', 'Procurement and Logistics', 'Vaccine', 'Health',\n",
       "       'Politics', 'Vaccination campaign', 'Business', 'Other',\n",
       "       'Approval', 'Unique vaccination', 'Side effects'], dtype=object)"
      ]
     },
     "execution_count": 7,
     "metadata": {},
     "output_type": "execute_result"
    }
   ],
   "source": [
    "twitter_data['Category'].unique()"
   ]
  },
  {
   "cell_type": "markdown",
   "metadata": {},
   "source": [
    "## 3. NLP Classification"
   ]
  },
  {
   "cell_type": "markdown",
   "metadata": {},
   "source": [
    "The firstr step is filtering out unclassified or undesired categories:"
   ]
  },
  {
   "cell_type": "code",
   "execution_count": 8,
   "metadata": {},
   "outputs": [
    {
     "data": {
      "image/png": "[encoded data removed]",
      "text/plain": [
       "<Figure size 432x288 with 1 Axes>"
      ]
     },
     "metadata": {
      "needs_background": "light"
     },
     "output_type": "display_data"
    }
   ],
   "source": [
    "# Deleting Unclassified and 'Other' tweets\n",
    "twitter_data_sample = twitter_data.copy()\n",
    "twitter_data_sample = twitter_data_sample[twitter_data_sample['Category'] != '']\n",
    "twitter_data_sample = twitter_data_sample[twitter_data_sample['Category'] != 'Other']\n",
    "twitter_data_sample = twitter_data_sample[twitter_data_sample['Category'] != 'Business']\n",
    "twitter_data_sample = twitter_data_sample[twitter_data_sample['Category'] != 'Politics']\n",
    "twitter_data_sample.reset_index(inplace = True)\n",
    "del twitter_data_sample['index']\n",
    "ax = sns.countplot(y=\"Category\", data=twitter_data_sample, order = twitter_data_sample['Category'].value_counts().index)\n"
   ]
  },
  {
   "cell_type": "code",
   "execution_count": 9,
   "metadata": {},
   "outputs": [
    {
     "data": {
      "text/html": [
       "<div>\n",
       "<style scoped>\n",
       "    .dataframe tbody tr th:only-of-type {\n",
       "        vertical-align: middle;\n",
       "    }\n",
       "\n",
       "    .dataframe tbody tr th {\n",
       "        vertical-align: top;\n",
       "    }\n",
       "\n",
       "    .dataframe thead th {\n",
       "        text-align: right;\n",
       "    }\n",
       "</style>\n",
       "<table border=\"1\" class=\"dataframe\">\n",
       "  <thead>\n",
       "    <tr style=\"text-align: right;\">\n",
       "      <th></th>\n",
       "      <th>user_location</th>\n",
       "      <th>user_created</th>\n",
       "      <th>user_followers</th>\n",
       "      <th>user_friends</th>\n",
       "      <th>user_favourites</th>\n",
       "      <th>user_verified</th>\n",
       "      <th>date</th>\n",
       "      <th>text</th>\n",
       "      <th>hashtags</th>\n",
       "      <th>source</th>\n",
       "      <th>retweets</th>\n",
       "      <th>favorites</th>\n",
       "      <th>is_retweet</th>\n",
       "      <th>Country</th>\n",
       "      <th>Country_freq</th>\n",
       "      <th>link</th>\n",
       "      <th>Category</th>\n",
       "    </tr>\n",
       "  </thead>\n",
       "  <tbody>\n",
       "    <tr>\n",
       "      <th>0</th>\n",
       "      <td>La Crescenta-Montrose, CA</td>\n",
       "      <td>2009-04-08 17:52:46</td>\n",
       "      <td>405</td>\n",
       "      <td>1692</td>\n",
       "      <td>3247</td>\n",
       "      <td>False</td>\n",
       "      <td>2020-12-20 06:06:44</td>\n",
       "      <td>Same folks said daikon paste could treat a cyt...</td>\n",
       "      <td>['PfizerBioNTech']</td>\n",
       "      <td>Twitter for Android</td>\n",
       "      <td>0</td>\n",
       "      <td>0</td>\n",
       "      <td>False</td>\n",
       "      <td>United States</td>\n",
       "      <td>610</td>\n",
       "      <td></td>\n",
       "      <td>Junk Knowledge</td>\n",
       "    </tr>\n",
       "    <tr>\n",
       "      <th>1</th>\n",
       "      <td>San Francisco, CA</td>\n",
       "      <td>2009-09-21 15:27:30</td>\n",
       "      <td>834</td>\n",
       "      <td>666</td>\n",
       "      <td>178</td>\n",
       "      <td>False</td>\n",
       "      <td>2020-12-13 16:27:13</td>\n",
       "      <td>While the world has been on the wrong side of ...</td>\n",
       "      <td>NaN</td>\n",
       "      <td>Twitter Web App</td>\n",
       "      <td>1</td>\n",
       "      <td>1</td>\n",
       "      <td>False</td>\n",
       "      <td>United States</td>\n",
       "      <td>610</td>\n",
       "      <td>https://t.co/dlCHrZjkhm</td>\n",
       "      <td>Procurement and Logistics</td>\n",
       "    </tr>\n",
       "    <tr>\n",
       "      <th>2</th>\n",
       "      <td>Your Bed</td>\n",
       "      <td>2020-06-25 23:30:28</td>\n",
       "      <td>10</td>\n",
       "      <td>88</td>\n",
       "      <td>155</td>\n",
       "      <td>False</td>\n",
       "      <td>2020-12-12 20:33:45</td>\n",
       "      <td>Russian vaccine is created to last 2-4 yearsâ€¦</td>\n",
       "      <td>['coronavirus', 'SputnikV', 'AstraZeneca', 'Pf...</td>\n",
       "      <td>Twitter for Android</td>\n",
       "      <td>0</td>\n",
       "      <td>0</td>\n",
       "      <td>False</td>\n",
       "      <td>NA</td>\n",
       "      <td>827</td>\n",
       "      <td>https://t.co/ieYlCKBr8P</td>\n",
       "      <td>Vaccine</td>\n",
       "    </tr>\n",
       "    <tr>\n",
       "      <th>3</th>\n",
       "      <td>Vancouver, BC - Canada</td>\n",
       "      <td>2008-09-10 11:28:53</td>\n",
       "      <td>49165</td>\n",
       "      <td>3933</td>\n",
       "      <td>21853</td>\n",
       "      <td>True</td>\n",
       "      <td>2020-12-12 20:23:59</td>\n",
       "      <td>Facts are immutable, Senator, even when you're...</td>\n",
       "      <td>NaN</td>\n",
       "      <td>Twitter Web App</td>\n",
       "      <td>446</td>\n",
       "      <td>2129</td>\n",
       "      <td>False</td>\n",
       "      <td>Canada</td>\n",
       "      <td>156</td>\n",
       "      <td>https://t.co/jqgV18kch4</td>\n",
       "      <td>Vaccine</td>\n",
       "    </tr>\n",
       "    <tr>\n",
       "      <th>4</th>\n",
       "      <td>NaN</td>\n",
       "      <td>2020-04-23 17:58:42</td>\n",
       "      <td>152</td>\n",
       "      <td>580</td>\n",
       "      <td>1473</td>\n",
       "      <td>False</td>\n",
       "      <td>2020-12-12 20:17:19</td>\n",
       "      <td>Explain to me again why we need a vaccine</td>\n",
       "      <td>['whereareallthesickpeople', 'PfizerBioNTech']</td>\n",
       "      <td>Twitter for iPhone</td>\n",
       "      <td>0</td>\n",
       "      <td>0</td>\n",
       "      <td>False</td>\n",
       "      <td>NA</td>\n",
       "      <td>827</td>\n",
       "      <td>https://t.co/KxbSRoBEHq</td>\n",
       "      <td>Junk Knowledge</td>\n",
       "    </tr>\n",
       "    <tr>\n",
       "      <th>...</th>\n",
       "      <td>...</td>\n",
       "      <td>...</td>\n",
       "      <td>...</td>\n",
       "      <td>...</td>\n",
       "      <td>...</td>\n",
       "      <td>...</td>\n",
       "      <td>...</td>\n",
       "      <td>...</td>\n",
       "      <td>...</td>\n",
       "      <td>...</td>\n",
       "      <td>...</td>\n",
       "      <td>...</td>\n",
       "      <td>...</td>\n",
       "      <td>...</td>\n",
       "      <td>...</td>\n",
       "      <td>...</td>\n",
       "      <td>...</td>\n",
       "    </tr>\n",
       "    <tr>\n",
       "      <th>2565</th>\n",
       "      <td>ðŸŒ</td>\n",
       "      <td>2019-09-23 14:10:22</td>\n",
       "      <td>13</td>\n",
       "      <td>46</td>\n",
       "      <td>920</td>\n",
       "      <td>False</td>\n",
       "      <td>2021-01-02 23:02:32</td>\n",
       "      <td></td>\n",
       "      <td>['oxfordastrazeneca', 'PfizerBioNTech', 'Pfize...</td>\n",
       "      <td>Twitter for Android</td>\n",
       "      <td>0</td>\n",
       "      <td>3</td>\n",
       "      <td>False</td>\n",
       "      <td>NA</td>\n",
       "      <td>827</td>\n",
       "      <td>https://t.co/A6VUF9BTW2</td>\n",
       "      <td>Vaccination campaign</td>\n",
       "    </tr>\n",
       "    <tr>\n",
       "      <th>2566</th>\n",
       "      <td>Everywhere</td>\n",
       "      <td>2021-01-02 22:28:50</td>\n",
       "      <td>16</td>\n",
       "      <td>121</td>\n",
       "      <td>0</td>\n",
       "      <td>False</td>\n",
       "      <td>2021-01-02 22:36:45</td>\n",
       "      <td>Countries that have approved the COVID-19 vacc...</td>\n",
       "      <td>['PfizerBioNTech']</td>\n",
       "      <td>Twitter for iPhone</td>\n",
       "      <td>0</td>\n",
       "      <td>0</td>\n",
       "      <td>False</td>\n",
       "      <td>NA</td>\n",
       "      <td>827</td>\n",
       "      <td>Canada\\nðŸ‡²ðŸ‡½ Mexico\\nðŸ‡®ðŸ‡± Israelâ€</td>\n",
       "      <td>Approval</td>\n",
       "    </tr>\n",
       "    <tr>\n",
       "      <th>2567</th>\n",
       "      <td>Earth</td>\n",
       "      <td>2018-04-17 03:48:35</td>\n",
       "      <td>22</td>\n",
       "      <td>90</td>\n",
       "      <td>2779</td>\n",
       "      <td>False</td>\n",
       "      <td>2021-01-02 22:20:01</td>\n",
       "      <td>Vaccinated!  Got my first dose.</td>\n",
       "      <td>['PfizerBioNTech', 'vaccine']</td>\n",
       "      <td>Twitter for iPhone</td>\n",
       "      <td>0</td>\n",
       "      <td>2</td>\n",
       "      <td>False</td>\n",
       "      <td>NA</td>\n",
       "      <td>827</td>\n",
       "      <td></td>\n",
       "      <td>Unique vaccination</td>\n",
       "    </tr>\n",
       "    <tr>\n",
       "      <th>2568</th>\n",
       "      <td>NaN</td>\n",
       "      <td>2013-05-06 03:26:53</td>\n",
       "      <td>904</td>\n",
       "      <td>985</td>\n",
       "      <td>12118</td>\n",
       "      <td>False</td>\n",
       "      <td>2021-01-02 22:06:12</td>\n",
       "      <td>OMG congratulations ðŸ˜· ðŸ’‰</td>\n",
       "      <td>['vaccine', 'PfizerBioNTech']</td>\n",
       "      <td>Twitter for iPhone</td>\n",
       "      <td>0</td>\n",
       "      <td>1</td>\n",
       "      <td>False</td>\n",
       "      <td>NA</td>\n",
       "      <td>827</td>\n",
       "      <td></td>\n",
       "      <td>Unique vaccination</td>\n",
       "    </tr>\n",
       "    <tr>\n",
       "      <th>2569</th>\n",
       "      <td>Kreuzberg, ist nicht Apolda</td>\n",
       "      <td>2012-03-26 11:59:20</td>\n",
       "      <td>648</td>\n",
       "      <td>697</td>\n",
       "      <td>47590</td>\n",
       "      <td>False</td>\n",
       "      <td>2021-01-02 21:35:21</td>\n",
       "      <td>\"deliveries of the vaccine will continue on a ...</td>\n",
       "      <td>['PfizerBioNTech']</td>\n",
       "      <td>Twitter for Android</td>\n",
       "      <td>0</td>\n",
       "      <td>0</td>\n",
       "      <td>False</td>\n",
       "      <td>Germany</td>\n",
       "      <td>39</td>\n",
       "      <td>https://t.co/iCchwujkj5</td>\n",
       "      <td>Procurement and Logistics</td>\n",
       "    </tr>\n",
       "  </tbody>\n",
       "</table>\n",
       "<p>2570 rows × 17 columns</p>\n",
       "</div>"
      ],
      "text/plain": [
       "                     user_location        user_created  user_followers  \\\n",
       "0        La Crescenta-Montrose, CA 2009-04-08 17:52:46             405   \n",
       "1                San Francisco, CA 2009-09-21 15:27:30             834   \n",
       "2                         Your Bed 2020-06-25 23:30:28              10   \n",
       "3           Vancouver, BC - Canada 2008-09-10 11:28:53           49165   \n",
       "4                              NaN 2020-04-23 17:58:42             152   \n",
       "...                            ...                 ...             ...   \n",
       "2565                         ðŸŒ  2019-09-23 14:10:22              13   \n",
       "2566                   Everywhere  2021-01-02 22:28:50              16   \n",
       "2567                         Earth 2018-04-17 03:48:35              22   \n",
       "2568                           NaN 2013-05-06 03:26:53             904   \n",
       "2569  Kreuzberg, ist nicht Apolda  2012-03-26 11:59:20             648   \n",
       "\n",
       "      user_friends  user_favourites  user_verified                date  \\\n",
       "0             1692             3247          False 2020-12-20 06:06:44   \n",
       "1              666              178          False 2020-12-13 16:27:13   \n",
       "2               88              155          False 2020-12-12 20:33:45   \n",
       "3             3933            21853           True 2020-12-12 20:23:59   \n",
       "4              580             1473          False 2020-12-12 20:17:19   \n",
       "...            ...              ...            ...                 ...   \n",
       "2565            46              920          False 2021-01-02 23:02:32   \n",
       "2566           121                0          False 2021-01-02 22:36:45   \n",
       "2567            90             2779          False 2021-01-02 22:20:01   \n",
       "2568           985            12118          False 2021-01-02 22:06:12   \n",
       "2569           697            47590          False 2021-01-02 21:35:21   \n",
       "\n",
       "                                                   text  \\\n",
       "0     Same folks said daikon paste could treat a cyt...   \n",
       "1     While the world has been on the wrong side of ...   \n",
       "2       Russian vaccine is created to last 2-4 yearsâ€¦   \n",
       "3     Facts are immutable, Senator, even when you're...   \n",
       "4             Explain to me again why we need a vaccine   \n",
       "...                                                 ...   \n",
       "2565                                                      \n",
       "2566  Countries that have approved the COVID-19 vacc...   \n",
       "2567                    Vaccinated!  Got my first dose.   \n",
       "2568                      OMG congratulations ðŸ˜· ðŸ’‰   \n",
       "2569  \"deliveries of the vaccine will continue on a ...   \n",
       "\n",
       "                                               hashtags               source  \\\n",
       "0                                    ['PfizerBioNTech']  Twitter for Android   \n",
       "1                                                   NaN      Twitter Web App   \n",
       "2     ['coronavirus', 'SputnikV', 'AstraZeneca', 'Pf...  Twitter for Android   \n",
       "3                                                   NaN      Twitter Web App   \n",
       "4        ['whereareallthesickpeople', 'PfizerBioNTech']   Twitter for iPhone   \n",
       "...                                                 ...                  ...   \n",
       "2565  ['oxfordastrazeneca', 'PfizerBioNTech', 'Pfize...  Twitter for Android   \n",
       "2566                                 ['PfizerBioNTech']   Twitter for iPhone   \n",
       "2567                      ['PfizerBioNTech', 'vaccine']   Twitter for iPhone   \n",
       "2568                      ['vaccine', 'PfizerBioNTech']   Twitter for iPhone   \n",
       "2569                                 ['PfizerBioNTech']  Twitter for Android   \n",
       "\n",
       "      retweets  favorites  is_retweet        Country  Country_freq  \\\n",
       "0            0          0       False  United States           610   \n",
       "1            1          1       False  United States           610   \n",
       "2            0          0       False             NA           827   \n",
       "3          446       2129       False         Canada           156   \n",
       "4            0          0       False             NA           827   \n",
       "...        ...        ...         ...            ...           ...   \n",
       "2565         0          3       False             NA           827   \n",
       "2566         0          0       False             NA           827   \n",
       "2567         0          2       False             NA           827   \n",
       "2568         0          1       False             NA           827   \n",
       "2569         0          0       False        Germany            39   \n",
       "\n",
       "                                            link                   Category  \n",
       "0                                                            Junk Knowledge  \n",
       "1                        https://t.co/dlCHrZjkhm  Procurement and Logistics  \n",
       "2                        https://t.co/ieYlCKBr8P                    Vaccine  \n",
       "3                        https://t.co/jqgV18kch4                    Vaccine  \n",
       "4                        https://t.co/KxbSRoBEHq             Junk Knowledge  \n",
       "...                                          ...                        ...  \n",
       "2565                     https://t.co/A6VUF9BTW2       Vaccination campaign  \n",
       "2566  Canada\\nðŸ‡²ðŸ‡½ Mexico\\nðŸ‡®ðŸ‡± Israelâ€                   Approval  \n",
       "2567                                                     Unique vaccination  \n",
       "2568                                                     Unique vaccination  \n",
       "2569                     https://t.co/iCchwujkj5  Procurement and Logistics  \n",
       "\n",
       "[2570 rows x 17 columns]"
      ]
     },
     "execution_count": 9,
     "metadata": {},
     "output_type": "execute_result"
    }
   ],
   "source": [
    "def text_cleaner(text):\n",
    "    \"\"\" This function aims at removing links, tagged names and and '#' characters from the text values as they\n",
    "    do not have real value and add noise to the text\n",
    "    \"\"\"\n",
    "    new_text = []\n",
    "    text = text.split(' ')\n",
    "    for element in text:\n",
    "        add_text = True\n",
    "        if 'https' in element:\n",
    "            add_text = False\n",
    "        if '@' in element:\n",
    "            add_text = False\n",
    "        if '#' in element:\n",
    "            add_text = False\n",
    "        if add_text:\n",
    "            new_text.append(element)\n",
    "    return ' '.join(new_text)\n",
    "\n",
    "twitter_data_sample['text'] = twitter_data_sample['text'].apply(lambda s:text_cleaner(s))\n",
    "twitter_data_sample"
   ]
  },
  {
   "cell_type": "markdown",
   "metadata": {},
   "source": [
    "Defining text filtering function"
   ]
  },
  {
   "cell_type": "code",
   "execution_count": 10,
   "metadata": {},
   "outputs": [],
   "source": [
    "def text_process(mess):\n",
    "    \"\"\"\n",
    "    1. remove punctuation\n",
    "    2. remove stop words\n",
    "    3. return list of cleantext words\n",
    "    \"\"\"\n",
    "    \n",
    "    nopunc = [char for char in mess if char not in string.punctuation]\n",
    "    nopunc = ''.join(nopunc)\n",
    "    return [word for word in nopunc.split() if word.lower() not in stopwords.words('english')]"
   ]
  },
  {
   "cell_type": "markdown",
   "metadata": {},
   "source": [
    "Importing NLP libraries:"
   ]
  },
  {
   "cell_type": "code",
   "execution_count": 11,
   "metadata": {},
   "outputs": [],
   "source": [
    "import nltk\n",
    "#nltk.download('stopwords')\n",
    "from sklearn.feature_extraction.text import CountVectorizer\n",
    "import string\n",
    "from nltk.corpus import stopwords\n",
    "bow_transformer = CountVectorizer(analyzer = text_process).fit(twitter_data_sample['text'])"
   ]
  },
  {
   "cell_type": "markdown",
   "metadata": {},
   "source": [
    "Creating the IfIDF matrix"
   ]
  },
  {
   "cell_type": "code",
   "execution_count": 12,
   "metadata": {},
   "outputs": [],
   "source": [
    "messages_bow = bow_transformer.transform(twitter_data_sample['text'])\n",
    "from sklearn.feature_extraction.text import TfidfTransformer\n",
    "tfidf_transformer = TfidfTransformer().fit(messages_bow)\n",
    "messages_tfidf = tfidf_transformer.transform(messages_bow)"
   ]
  },
  {
   "cell_type": "markdown",
   "metadata": {},
   "source": [
    "Finally, we predict the tweets Category using a MultinomialNB classifier"
   ]
  },
  {
   "cell_type": "code",
   "execution_count": 13,
   "metadata": {},
   "outputs": [
    {
     "name": "stdout",
     "output_type": "stream",
     "text": [
      "                           precision    recall  f1-score   support\n",
      "\n",
      "                 Approval       0.93      0.52      0.67        71\n",
      "                   Health       1.00      0.08      0.15        38\n",
      "           Junk Knowledge       1.00      0.03      0.05        74\n",
      "Procurement and Logistics       0.92      0.21      0.34        57\n",
      "             Side effects       1.00      0.12      0.22        49\n",
      "       Unique vaccination       0.38      0.98      0.55       238\n",
      "     Vaccination campaign       0.60      0.25      0.36       127\n",
      "                  Vaccine       0.61      0.20      0.30       117\n",
      "\n",
      "                 accuracy                           0.45       771\n",
      "                macro avg       0.80      0.30      0.33       771\n",
      "             weighted avg       0.67      0.45      0.39       771\n",
      "\n"
     ]
    }
   ],
   "source": [
    "spam_detect_model = MultinomialNB().fit(messages_tfidf,twitter_data_sample['Category'])\n",
    "msg_train,msg_test,label_train,label_test = train_test_split(twitter_data_sample['text'],twitter_data_sample['Category'],test_size=0.3)\n",
    "pipeline = Pipeline([\n",
    "    ('bow',CountVectorizer(analyzer = text_process)),\n",
    "    ('tfidf',TfidfTransformer()),\n",
    "    ('classifier',MultinomialNB())\n",
    "])\n",
    "pipeline.fit(msg_train,label_train)\n",
    "precitions = pipeline.predict(msg_test)\n",
    "print(classification_report(label_test,precitions))\n"
   ]
  },
  {
   "cell_type": "markdown",
   "metadata": {},
   "source": [
    "The 'Unique Vaccination' category has lower results than the others, which is due to the fact that a considerable number of these tweets are rather pictures after the vaccination than clear text."
   ]
  },
  {
   "cell_type": "markdown",
   "metadata": {},
   "source": [
    "### Some predictions"
   ]
  },
  {
   "cell_type": "code",
   "execution_count": 14,
   "metadata": {},
   "outputs": [],
   "source": [
    "def predict_value(i):\n",
    "    \"\"\"This function takes an index at the table and predict its text category.\"\"\"\n",
    "    text = text_cleaner(twitter_data['text'][i])\n",
    "    cat = twitter_data['Category'][i]\n",
    "    if cat ==\"\":\n",
    "        cat = 'Unclassified'\n",
    "    predict = pipeline.predict([text])[0]\n",
    "    print(\"Text:\\n----------------------\\n{}\\n----------------------\\nCategory: {}\\nPredicted: {}\".format(text,cat,predict))"
   ]
  },
  {
   "cell_type": "markdown",
   "metadata": {},
   "source": [
    "#### Predicting element 50"
   ]
  },
  {
   "cell_type": "code",
   "execution_count": 15,
   "metadata": {},
   "outputs": [
    {
     "name": "stdout",
     "output_type": "stream",
     "text": [
      "Text:\n",
      "----------------------\n",
      "Tragedy. Another life taken by corporate greed and the evil pharmaceutical companies.\n",
      "----------------------\n",
      "Category: Junk Knowledge\n",
      "Predicted: Unique vaccination\n"
     ]
    }
   ],
   "source": [
    "predict_value(50)"
   ]
  },
  {
   "cell_type": "markdown",
   "metadata": {},
   "source": [
    "#### Predicting element 500"
   ]
  },
  {
   "cell_type": "code",
   "execution_count": 16,
   "metadata": {},
   "outputs": [
    {
     "name": "stdout",
     "output_type": "stream",
     "text": [
      "Text:\n",
      "----------------------\n",
      "COVID-19: New York nurse gets first shots of Coronavirus\n",
      "----------------------\n",
      "Category: Unique vaccination\n",
      "Predicted: Unique vaccination\n"
     ]
    }
   ],
   "source": [
    "predict_value(400)"
   ]
  },
  {
   "cell_type": "markdown",
   "metadata": {},
   "source": [
    "#### Predicting element 1000"
   ]
  },
  {
   "cell_type": "code",
   "execution_count": 17,
   "metadata": {},
   "outputs": [
    {
     "name": "stdout",
     "output_type": "stream",
     "text": [
      "Text:\n",
      "----------------------\n",
      "And just like that 1 jab down, 1 to go! Thanks Dr Ammara Hughes for vaccinating me. Helping towards 70% target forâ€¦\n",
      "----------------------\n",
      "Category: Unique vaccination\n",
      "Predicted: Unique vaccination\n"
     ]
    }
   ],
   "source": [
    "predict_value(1000)"
   ]
  },
  {
   "cell_type": "markdown",
   "metadata": {},
   "source": [
    "#### Predicting element 1500"
   ]
  },
  {
   "cell_type": "code",
   "execution_count": 18,
   "metadata": {},
   "outputs": [
    {
     "name": "stdout",
     "output_type": "stream",
     "text": [
      "Text:\n",
      "----------------------\n",
      "Getting my shot on Wednesday, 11:45 am.  Follow up 3 weeks later!  Thank you.  If I had a request fâ€¦\n",
      "----------------------\n",
      "Category: Unique vaccination\n",
      "Predicted: Unique vaccination\n"
     ]
    }
   ],
   "source": [
    "predict_value(1500)"
   ]
  },
  {
   "cell_type": "markdown",
   "metadata": {},
   "source": [
    "#### Predicting element 2000"
   ]
  },
  {
   "cell_type": "code",
   "execution_count": 19,
   "metadata": {},
   "outputs": [
    {
     "name": "stdout",
     "output_type": "stream",
     "text": [
      "Text:\n",
      "----------------------\n",
      "Nurse tests positive for despite receiving the\n",
      "----------------------\n",
      "Category: Health\n",
      "Predicted: Unique vaccination\n"
     ]
    }
   ],
   "source": [
    "predict_value(1800)"
   ]
  }
 ],
 "metadata": {
  "kernelspec": {
   "display_name": "Python 3",
   "language": "python",
   "name": "python3"
  },
  "language_info": {
   "codemirror_mode": {
    "name": "ipython",
    "version": 3
   },
   "file_extension": ".py",
   "mimetype": "text/x-python",
   "name": "python",
   "nbconvert_exporter": "python",
   "pygments_lexer": "ipython3",
   "version": "3.8.5"
  }
 },
 "nbformat": 4,
 "nbformat_minor": 4
}
